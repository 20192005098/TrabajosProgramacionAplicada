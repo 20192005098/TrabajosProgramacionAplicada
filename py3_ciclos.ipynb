{
  "nbformat": 4,
  "nbformat_minor": 0,
  "metadata": {
    "colab": {
      "name": "py3-ciclos.ipynb",
      "provenance": [],
      "authorship_tag": "ABX9TyNaB6dcaUND9z7GuaoBrXhn",
      "include_colab_link": true
    },
    "kernelspec": {
      "name": "python3",
      "display_name": "Python 3"
    },
    "language_info": {
      "name": "python"
    }
  },
  "cells": [
    {
      "cell_type": "markdown",
      "metadata": {
        "id": "view-in-github",
        "colab_type": "text"
      },
      "source": [
        "<a href=\"https://colab.research.google.com/github/20192005098/TrabajosProgramacionAplicada/blob/main/py3_ciclos.ipynb\" target=\"_parent\"><img src=\"https://colab.research.google.com/assets/colab-badge.svg\" alt=\"Open In Colab\"/></a>"
      ]
    },
    {
      "cell_type": "markdown",
      "metadata": {
        "id": "wDQOrmkZxb7k"
      },
      "source": [
        "EJERCICIO 1"
      ]
    },
    {
      "cell_type": "code",
      "metadata": {
        "id": "6C6xGDbbtWAT"
      },
      "source": [
        "def sumatoria_1(A,B,C):\n",
        "  \"\"\"\n",
        "  A, B y C son listas de igual longitud\n",
        "\n",
        "  \"\"\"\n",
        "  n = len(A)\n",
        "  acumulador = 0\n",
        "\n",
        "  for i in range(n):\n",
        "      d = A[i] * B[i]\n",
        "      e = C[i] + d \n",
        "      acumulador = acumulador + e\n",
        "  resultado = acumulador + n**2\n",
        "  return resultado\n"
      ],
      "execution_count": 4,
      "outputs": []
    },
    {
      "cell_type": "code",
      "metadata": {
        "colab": {
          "base_uri": "https://localhost:8080/"
        },
        "id": "lpHu4sJfv3yd",
        "outputId": "39b4f8a5-3720-47bf-8eaa-0840733528d2"
      },
      "source": [
        "A=[1,3,5,7]\n",
        "B=[2,4,6,8]\n",
        "C=[1,4,1,0]\n",
        "sumatoria_1(A,B,C)"
      ],
      "execution_count": 5,
      "outputs": [
        {
          "output_type": "execute_result",
          "data": {
            "text/plain": [
              "122"
            ]
          },
          "metadata": {},
          "execution_count": 5
        }
      ]
    },
    {
      "cell_type": "code",
      "metadata": {
        "colab": {
          "base_uri": "https://localhost:8080/"
        },
        "id": "gE3PL72hwY-l",
        "outputId": "23946680-d368-4e82-8953-20cc122e6cee"
      },
      "source": [
        "(1*2)+1 + (3*4)+4 + (5*6)+1 + (7*8)+0 + 16"
      ],
      "execution_count": 6,
      "outputs": [
        {
          "output_type": "execute_result",
          "data": {
            "text/plain": [
              "122"
            ]
          },
          "metadata": {},
          "execution_count": 6
        }
      ]
    },
    {
      "cell_type": "markdown",
      "metadata": {
        "id": "SWceUGO-xW2N"
      },
      "source": [
        "EJERCICIO 2 "
      ]
    },
    {
      "cell_type": "code",
      "metadata": {
        "id": "FOyFByyFxaul"
      },
      "source": [
        "def llena_lista_1(A,B):\n",
        "    \"\"\"\n",
        "    A,B son listas de igual longitd \n",
        "\n",
        "    \"\"\"\n",
        "\n",
        "    n = len(A)//2\n",
        "    C = []\n",
        "    for i in range(n):\n",
        "        d = A[i+1]**2 \n",
        "        e = d * B[2*i]\n",
        "        f = e + B[n+i] \n",
        "        C.append(f)\n",
        "    return C\n"
      ],
      "execution_count": 9,
      "outputs": []
    },
    {
      "cell_type": "code",
      "metadata": {
        "colab": {
          "base_uri": "https://localhost:8080/"
        },
        "id": "3KNM8D0Vzs9A",
        "outputId": "6eca0a27-2c3e-460a-e559-41a43279a910"
      },
      "source": [
        "A=[3,4,5,6,7,1]\n",
        "B=[9,3,6,7,2,1]\n",
        "llena_lista_1(A,B)"
      ],
      "execution_count": 10,
      "outputs": [
        {
          "output_type": "execute_result",
          "data": {
            "text/plain": [
              "[151, 152, 73]"
            ]
          },
          "metadata": {},
          "execution_count": 10
        }
      ]
    }
  ]
}