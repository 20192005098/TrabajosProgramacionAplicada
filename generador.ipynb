{
  "nbformat": 4,
  "nbformat_minor": 0,
  "metadata": {
    "colab": {
      "name": "generador.ipynb",
      "provenance": [],
      "authorship_tag": "ABX9TyPmF3jvCfiZH5fvGsrm2IGC",
      "include_colab_link": true
    },
    "kernelspec": {
      "name": "python3",
      "display_name": "Python 3"
    },
    "language_info": {
      "name": "python"
    }
  },
  "cells": [
    {
      "cell_type": "markdown",
      "metadata": {
        "id": "view-in-github",
        "colab_type": "text"
      },
      "source": [
        "<a href=\"https://colab.research.google.com/github/20192005098/TrabajosProgramacionAplicada/blob/main/generador.ipynb\" target=\"_parent\"><img src=\"https://colab.research.google.com/assets/colab-badge.svg\" alt=\"Open In Colab\"/></a>"
      ]
    },
    {
      "cell_type": "markdown",
      "metadata": {
        "id": "5Rr53npOFUlf"
      },
      "source": [
        "Ejercicio 1 "
      ]
    },
    {
      "cell_type": "code",
      "metadata": {
        "colab": {
          "base_uri": "https://localhost:8080/"
        },
        "id": "gyczBgppFRj1",
        "outputId": "df81f1eb-4875-4a77-ad9b-5ccd57aa7220"
      },
      "source": [
        "A=[1,2,3,4]\n",
        "B=[4,3,2,1]\n",
        "C=[5,6,7,8]\n",
        "\n",
        "n=len(A)\n",
        "sum(((A[i]*B[i]) + C[i] for i in range(n))) + n**2"
      ],
      "execution_count": null,
      "outputs": [
        {
          "output_type": "execute_result",
          "data": {
            "text/plain": [
              "62"
            ]
          },
          "metadata": {},
          "execution_count": 1
        }
      ]
    },
    {
      "cell_type": "code",
      "metadata": {
        "colab": {
          "base_uri": "https://localhost:8080/"
        },
        "id": "HqyOpjKMIzxV",
        "outputId": "09c1d4e3-871b-4a8b-92a5-a5324d223f80"
      },
      "source": [
        "(1*4)+5 + (2*3)+6 + (3*2)+7 + (4*1)+8 + 16 "
      ],
      "execution_count": null,
      "outputs": [
        {
          "output_type": "execute_result",
          "data": {
            "text/plain": [
              "62"
            ]
          },
          "metadata": {},
          "execution_count": 3
        }
      ]
    },
    {
      "cell_type": "markdown",
      "metadata": {
        "id": "Xnsenr78JZnn"
      },
      "source": [
        "Ejercicio 2 "
      ]
    },
    {
      "cell_type": "code",
      "metadata": {
        "colab": {
          "base_uri": "https://localhost:8080/"
        },
        "id": "SAzFz1OQJcIA",
        "outputId": "d55682a8-edfe-4a60-f3a9-ed92db805fa0"
      },
      "source": [
        "A=[3,12,5,7]\n",
        "B=[9,14,6,4]\n",
        "\n",
        "n=len(A)//2\n",
        "[((A[i+1]**2)*B[2*i]) + B[n+i] for i in range(n)]"
      ],
      "execution_count": null,
      "outputs": [
        {
          "output_type": "execute_result",
          "data": {
            "text/plain": [
              "[1302, 154]"
            ]
          },
          "metadata": {},
          "execution_count": 4
        }
      ]
    }
  ]
}